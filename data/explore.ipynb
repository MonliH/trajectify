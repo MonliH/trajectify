{
 "cells": [
  {
   "cell_type": "code",
   "execution_count": 1,
   "metadata": {},
   "outputs": [],
   "source": [
    "import jsonlines\n",
    "from tqdm import tqdm\n",
    "\n",
    "all_users = []\n",
    "with jsonlines.open('output_3.jsonl', mode='r') as writer:\n",
    "    a = list(writer)\n",
    "    all_users.extend(a)\n",
    "with jsonlines.open('output_2.jsonl', mode='r') as writer:\n",
    "    b = list(writer)\n",
    "    all_users.extend(b)"
   ]
  },
  {
   "cell_type": "code",
   "execution_count": 2,
   "metadata": {},
   "outputs": [
    {
     "name": "stdout",
     "output_type": "stream",
     "text": [
      "3710\n"
     ]
    }
   ],
   "source": [
    "print(len(all_users))"
   ]
  },
  {
   "cell_type": "code",
   "execution_count": 3,
   "metadata": {},
   "outputs": [],
   "source": [
    "def format_profile(profile):\n",
    "    if not profile: return None\n",
    "    headline = profile[\"headline\"].strip() if \"headline\" in profile and profile[\"headline\"] else \"Not listed\"\n",
    "    industryName = profile[\"industryName\"].strip() if \"industryName\" in profile and profile[\"industryName\"] else \"Not listed\"\n",
    "    name = profile[\"firstName\"] + \" \" + profile[\"lastName\"]\n",
    "    country = profile[\"locationName\"].strip() if \"locationName\" in profile and profile[\"locationName\"] else \"Not listed\"\n",
    "    summary = profile[\"summary\"].strip() if \"summary\" in profile and profile[\"summary\"] else \"Not listed\"\n",
    "    experience = profile[\"experience\"] if \"experience\" in profile and profile[\"experience\"] else None\n",
    "    volunteering = profile[\"volunteer\"] if \"volunteer\" in profile and profile[\"volunteer\"] else None\n",
    "    education = profile[\"education\"] if \"education\" in profile and profile[\"education\"] else None\n",
    "    awards = profile[\"honors\"] if \"honors\" in profile else None\n",
    "\n",
    "    def formatList(l, keys):\n",
    "        res = \"\"\n",
    "        for item_num, item in enumerate(l):\n",
    "            for i, key in enumerate(keys.keys()):\n",
    "                if (key not in item or not item[key]): continue\n",
    "                # res += \"\" if i != 0 else \"\"\n",
    "                res += keys[key] + \": \" + item[key].strip() + (\"\\n\" if i != len(keys) - 1 else \"\")\n",
    "            if item_num != len(l) - 1:\n",
    "                res += \"\\n\"\n",
    "        return res\n",
    "    \n",
    "    def formatExperience(experience, keys):\n",
    "        res = []\n",
    "        for item in experience:\n",
    "            temp = \"\"\n",
    "            for i, key in enumerate(keys.keys()):\n",
    "                if (key not in item or not item[key]): continue\n",
    "                # res += \"\" if i != 0 else \"\"\n",
    "                temp += keys[key] + \": \" + item[key].strip() + \"\\n\"\n",
    "            time_period_valid = item['timePeriod'] and 'startDate' in item['timePeriod'] and item['timePeriod']['startDate']\n",
    "            month_valid = time_period_valid and 'month' in item['timePeriod']['startDate'] and item['timePeriod']['startDate']['month']\n",
    "            year_valid = time_period_valid and 'year' in item['timePeriod']['startDate'] and item['timePeriod']['startDate']['year']\n",
    "            date_str = f\"{item['timePeriod']['startDate']['month']:0>2}/{item['timePeriod']['startDate']['year']}\"if time_period_valid and month_valid and year_valid else \"Not listed\"\n",
    "            temp += f\"Starting Date: \" + date_str\n",
    "            res.append((temp,\n",
    "                        int(item['timePeriod']['startDate']['year']) if time_period_valid and year_valid else None,\n",
    "                        int(item['timePeriod']['startDate']['month']) if time_period_valid and month_valid else None))\n",
    "        \n",
    "        return list(reversed(res))\n",
    "\n",
    "\n",
    "    formatted_education = formatList(education, { 'schoolName': 'School name', 'description': 'Description' }) if education else \"Not listed\"\n",
    "    formatted_volunteering = formatList(volunteering, { 'companyName': 'Company name', 'role': 'Role', 'description': 'Description' }) if volunteering else \"Not listed\"\n",
    "    formatted_awards = formatList(awards, { 'title': 'Title', 'issuer': 'Issuer', 'description': \"Description\" }) if awards else \"Not listed\"\n",
    "    formatted_experience = formatExperience(experience, { 'companyName': 'Company name', 'title': 'Title', 'description': 'Description' }) if experience else []\n",
    "\n",
    "    formatting_string = \"\"\"Name: {name}\n",
    "\n",
    "Industry: {industryName}\n",
    "Country: {country}\n",
    "Headline: {headline}\n",
    "Summary: {summary}\n",
    "---\n",
    "Volunteering:\n",
    "{formatted_volunteering}\n",
    "---\n",
    "Honors & Awards:\n",
    "{formatted_awards}\n",
    "---\n",
    "Education:\n",
    "{formatted_education}\n",
    "\"\"\"\n",
    "    return (formatting_string.format(name=name, country=country, industryName=industryName,\n",
    "                                    headline=headline, summary=summary, \n",
    "                                    formatted_volunteering=formatted_volunteering, \n",
    "                                    formatted_education=formatted_education, formatted_awards=formatted_awards), formatted_experience)\n"
   ]
  },
  {
   "cell_type": "code",
   "execution_count": 4,
   "metadata": {},
   "outputs": [
    {
     "data": {
      "text/plain": [
       "3515"
      ]
     },
     "execution_count": 4,
     "metadata": {},
     "output_type": "execute_result"
    }
   ],
   "source": [
    "real_users = [user for user in all_users if user]\n",
    "len(real_users)"
   ]
  },
  {
   "cell_type": "code",
   "execution_count": 5,
   "metadata": {},
   "outputs": [],
   "source": [
    "from datasets import Dataset\n",
    "ds = Dataset.from_list(real_users)"
   ]
  },
  {
   "cell_type": "code",
   "execution_count": 23,
   "metadata": {},
   "outputs": [
    {
     "data": {
      "application/vnd.jupyter.widget-view+json": {
       "model_id": "48713854b27c43dda0f44cb64e0388a1",
       "version_major": 2,
       "version_minor": 0
      },
      "text/plain": [
       "Map:   0%|          | 0/3515 [00:00<?, ? examples/s]"
      ]
     },
     "metadata": {},
     "output_type": "display_data"
    }
   ],
   "source": [
    "def map_formatting(examples):\n",
    "    new_examples = []\n",
    "    unbatched = []\n",
    "    for i in range(len(examples[\"firstName\"])):\n",
    "        unbatched.append({\n",
    "            k: v[i] for k, v in examples.items()\n",
    "        })\n",
    "\n",
    "    texts = []\n",
    "    labels = []\n",
    "    for example in unbatched:\n",
    "        text, experiences = format_profile(example)\n",
    "        if len(experiences) <= 0: continue\n",
    "        experience_to_give = experiences[:-1]\n",
    "        experience_label = experiences[-1]\n",
    "\n",
    "        texts.append(text + \"---\\nExperience:\\n\" + \"\\n\\n\".join(e[0] for e in experience_to_give))\n",
    "        labels.append(experience_label[0])\n",
    "    \n",
    "    return {\"input\": texts, \"output\": labels}\n",
    "\n",
    "new_ds = ds.map(map_formatting, remove_columns=ds.column_names, batched=True, batch_size=10)\n",
    "new_ds = new_ds.add_column(\"instruction\", [\"This is my LinkedIn profile information.\"]*len(new_ds[\"input\"]))"
   ]
  },
  {
   "cell_type": "code",
   "execution_count": 24,
   "metadata": {},
   "outputs": [
    {
     "data": {
      "application/vnd.jupyter.widget-view+json": {
       "model_id": "392aa4c368d743cc899824b6771bc113",
       "version_major": 2,
       "version_minor": 0
      },
      "text/plain": [
       "Creating json from Arrow format:   0%|          | 0/4 [00:00<?, ?ba/s]"
      ]
     },
     "metadata": {},
     "output_type": "display_data"
    },
    {
     "data": {
      "text/plain": [
       "6985877"
      ]
     },
     "execution_count": 24,
     "metadata": {},
     "output_type": "execute_result"
    }
   ],
   "source": [
    "new_ds.to_json(\"formatted_full.jsonl\", orient=\"records\", lines=True)"
   ]
  },
  {
   "cell_type": "code",
   "execution_count": 22,
   "metadata": {},
   "outputs": [
    {
     "name": "stdout",
     "output_type": "stream",
     "text": [
      "Name: Anthony Wang\n",
      "\n",
      "Industry: Information Technology & Services\n",
      "Country: Canada\n",
      "Headline: Software Developer @ blueRover | Math/BBA @ uwaterloo & wlu\n",
      "Summary: Not listed\n",
      "---\n",
      "Volunteering:\n",
      "Company name: University of Waterloo Chinese Students Association\n",
      "Role: VP of Internals\n",
      "Description: 2022: Executive & Director of internals\n",
      "2023: VP of internals\n",
      "Company name: UW Computer Science Club\n",
      "Role: Event Coordinator\n",
      "\n",
      "Company name: Tech+ UW\n",
      "Role: Logistics Organizer\n",
      "\n",
      "---\n",
      "Honors & Awards:\n",
      "Not listed\n",
      "---\n",
      "Education:\n",
      "School name: University of Waterloo\n",
      "\n",
      "School name: Wilfrid Laurier University\n",
      "\n",
      "School name: International Baccalaureate\n",
      "\n",
      "---\n",
      "Experience:\n",
      "Company name: Kumon North America, Inc.\n",
      "Title: Kumon Math/English Tutor\n",
      "Starting Date: 06/2015\n",
      "\n",
      "Company name: City of Kitchener\n",
      "Title: Swim Instructor/Lifeguard\n",
      "Starting Date: 01/2019\n",
      "\n",
      "Company name: University of Waterloo\n",
      "Title: Sub Team Lead\n",
      "Description: We Accelerate program w/ Manulife: Modern Web Application Design\n",
      "Starting Date: 04/2022\n",
      "\n",
      "Company name: FirstHx\n",
      "Title: Junior Software Developer\n",
      "Description: Software Team - Revamping Frontend Product\n",
      "Starting Date: 07/2022\n"
     ]
    }
   ],
   "source": [
    "print(new_ds[0][\"input\"])"
   ]
  }
 ],
 "metadata": {
  "kernelspec": {
   "display_name": "Python 3",
   "language": "python",
   "name": "python3"
  },
  "language_info": {
   "codemirror_mode": {
    "name": "ipython",
    "version": 3
   },
   "file_extension": ".py",
   "mimetype": "text/x-python",
   "name": "python",
   "nbconvert_exporter": "python",
   "pygments_lexer": "ipython3",
   "version": "3.11.3"
  },
  "orig_nbformat": 4
 },
 "nbformat": 4,
 "nbformat_minor": 2
}

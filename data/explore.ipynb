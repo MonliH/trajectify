{
 "cells": [
  {
   "cell_type": "code",
   "execution_count": 1,
   "metadata": {},
   "outputs": [
    {
     "name": "stdout",
     "output_type": "stream",
     "text": [
      "{'summary': 'Senior Technical Specialist with extensive experience in Software Development, DevOps, ProdOps and Data Warehousing. Proficient in Guidewire Applications Suite, Oracle Databases, and Business Intelligence applications. Experience in Cloud technologies (AWS Services, PCF). Champions Agile principles and methodologies. Strong leadership and stakeholders relation management skills. ', 'industryName': 'Computer Software', 'lastName': 'Sibalija', 'locationName': 'Canada', 'student': False, 'geoCountryName': 'Canada', 'geoCountryUrn': 'urn:li:fs_geo:101174742', 'geoLocationBackfilled': False, 'elt': False, 'industryUrn': 'urn:li:fs_industry:4', 'firstName': 'Darko', 'entityUrn': 'urn:li:fs_profile:ACoAAABW4qIByMMkdmkXL7f6ko5BgkKhMf_Nm3Q', 'geoLocation': {'geoUrn': 'urn:li:fs_geo:90009551'}, 'geoLocationName': 'Greater Toronto Area, Canada', 'location': {'basicLocation': {'countryCode': 'ca'}}, 'headline': 'Senior Application Support Analyst at RBC Technology & Operations', 'displayPictureUrl': 'https://media.licdn.com/dms/image/C5603AQFWtC0wVcr2Bg/profile-displayphoto-shrink_', 'img_100_100': '100_100/0/1516228747782?e=1691625600&v=beta&t=j7Lmvi4ycm2Op16QEXKV9-Th3B7RV2qfgvaqZEdY-UM', 'img_200_200': '200_200/0/1516228747782?e=1691625600&v=beta&t=LD14JEjRLtyOHqKb_OmNNoaQmSzXAbPPABYkhfbzUoA', 'img_400_400': '400_400/0/1516228747782?e=1691625600&v=beta&t=KbyIC-MOb_Mh4JokHA8vgHBs5RN0foJqfqBtZ45dUx8', 'img_800_800': '800_800/0/1516228747782?e=1691625600&v=beta&t=3i1OjlHdYwIj4-ItvfEXW2JAAZ-Lu2Iwp9f7aXzOrfE', 'profile_id': 'ACoAAABW4qIByMMkdmkXL7f6ko5BgkKhMf_Nm3Q', 'profile_urn': 'urn:li:fs_miniProfile:ACoAAABW4qIByMMkdmkXL7f6ko5BgkKhMf_Nm3Q', 'member_urn': 'urn:li:member:5694114', 'public_id': 'darkosibalija', 'experience': [{'locationName': 'Toronto, Ontario, Canada', 'entityUrn': 'urn:li:fs_position:(ACoAAABW4qIByMMkdmkXL7f6ko5BgkKhMf_Nm3Q,1837784541)', '$anti_abuse_metadata': {'/geoUrn': {'sourceUrns': {'com.linkedin.common.urn.MemberUrn': 'urn:li:member:5694114'}}, '/companyName': {'sourceUrns': {'com.linkedin.common.urn.MemberUrn': 'urn:li:member:5694114'}}, '/companyUrn': {'sourceUrns': {'com.linkedin.common.urn.MemberUrn': 'urn:li:member:5694114'}}, '/entityUrn': {'sourceUrns': {'com.linkedin.common.urn.MemberUrn': 'urn:li:member:5694114'}}, '/geoLocationName': {'sourceUrns': {'com.linkedin.common.urn.MemberUrn': 'urn:li:member:5694114'}}, '/promotion': {'sourceUrns': {'com.linkedin.common.urn.MemberUrn': 'urn:li:member:5694114'}}, '/title': {'sourceUrns': {'com.linkedin.common.urn.MemberUrn': 'urn:li:member:5694114'}}, '/region': {'sourceUrns': {'com.linkedin.common.urn.MemberUrn': 'urn:li:member:5694114'}}, '/locationName': {'sourceUrns': {'com.linkedin.common.urn.MemberUrn': 'urn:li:member:5694114'}}, '/description': {'sourceUrns': {'com.linkedin.common.urn.MemberUrn': 'urn:li:member:5694114'}}}, 'geoLocationName': 'Toronto, Ontario, Canada', 'geoUrn': 'urn:li:fs_geo:100025096', 'companyName': 'RBC Technology & Operations', 'timePeriod': {'startDate': {'month': 9, 'year': 2021}}, 'title': 'Senior Application Support Analyst', 'region': 'urn:li:fs_region:(ca,0)'}, {'locationName': 'Toronto, Ontario, Canada', 'entityUrn': 'urn:li:fs_position:(ACoAAABW4qIByMMkdmkXL7f6ko5BgkKhMf_Nm3Q,65945691)', '$anti_abuse_metadata': {'/geoUrn': {'sourceUrns': {'com.linkedin.common.urn.MemberUrn': 'urn:li:member:5694114'}}, '/companyName': {'sourceUrns': {'com.linkedin.common.urn.MemberUrn': 'urn:li:member:5694114'}}, '/companyUrn': {'sourceUrns': {'com.linkedin.common.urn.MemberUrn': 'urn:li:member:5694114'}}, '/entityUrn': {'sourceUrns': {'com.linkedin.common.urn.MemberUrn': 'urn:li:member:5694114'}}, '/geoLocationName': {'sourceUrns': {'com.linkedin.common.urn.MemberUrn': 'urn:li:member:5694114'}}, '/promotion': {'sourceUrns': {'com.linkedin.common.urn.MemberUrn': 'urn:li:member:5694114'}}, '/title': {'sourceUrns': {'com.linkedin.common.urn.MemberUrn': 'urn:li:member:5694114'}}, '/region': {'sourceUrns': {'com.linkedin.common.urn.MemberUrn': 'urn:li:member:5694114'}}, '/locationName': {'sourceUrns': {'com.linkedin.common.urn.MemberUrn': 'urn:li:member:5694114'}}, '/description': {'sourceUrns': {'com.linkedin.common.urn.MemberUrn': 'urn:li:member:5694114'}}}, 'geoLocationName': 'Toronto, Ontario, Canada', 'geoUrn': 'urn:li:fs_geo:100025096', 'companyName': 'Travelers Canada', 'timePeriod': {'endDate': {'month': 7, 'year': 2021}, 'startDate': {'month': 5, 'year': 2008}}, 'title': 'Technical Specialist - ODE Production Support Team Lead', 'region': 'urn:li:fs_region:(ca,0)'}, {'locationName': 'Toronto, Ontario, Canada', 'entityUrn': 'urn:li:fs_position:(ACoAAABW4qIByMMkdmkXL7f6ko5BgkKhMf_Nm3Q,7968718)', 'geoLocationName': 'Toronto, Ontario, Canada', 'geoUrn': 'urn:li:fs_geo:100025096', 'companyName': 'Quest Software', 'timePeriod': {'endDate': {'month': 5, 'year': 2008}, 'startDate': {'month': 3, 'year': 2006}}, 'company': {'employeeCountRange': {'start': 1001, 'end': 5000}, 'industries': ['Computer Software']}, 'title': 'QA Software Developer', 'region': 'urn:li:fs_region:(ca,0)', 'companyUrn': 'urn:li:fs_miniCompany:2880', 'companyLogoUrl': 'https://media.licdn.com/dms/image/D4E0BAQF9yjYBs-srZw/company-logo_'}, {'entityUrn': 'urn:li:fs_position:(ACoAAABW4qIByMMkdmkXL7f6ko5BgkKhMf_Nm3Q,8650844)', 'companyName': 'Telepoll Canada Inc.', 'timePeriod': {'endDate': {'month': 3, 'year': 2006}, 'startDate': {'month': 4, 'year': 2004}}, 'company': {'employeeCountRange': {'start': 51, 'end': 200}, 'industries': ['Telecommunications']}, 'title': 'Software Programmer/Data Analyst', 'companyUrn': 'urn:li:fs_miniCompany:60893', 'companyLogoUrl': 'https://media.licdn.com/dms/image/C4D0BAQHZ-zvikiKQQw/company-logo_'}], 'education': [{'entityUrn': 'urn:li:fs_education:(ACoAAABW4qIByMMkdmkXL7f6ko5BgkKhMf_Nm3Q,2053373)', 'school': {'objectUrn': 'urn:li:school:10861', 'entityUrn': 'urn:li:fs_miniSchool:10861', 'active': True, 'schoolName': 'University of Toronto', 'trackingId': 'QBeJZRFcRAaWCQ4CAjDQ8A==', 'logoUrl': 'https://media.licdn.com/dms/image/C4D0BAQHX-foiyEDxpw/company-logo_'}, 'timePeriod': {'endDate': {'year': 2003}, 'startDate': {'year': 1999}}, 'degreeName': 'Bachelor of Science', 'schoolName': 'University of Toronto', 'fieldOfStudy': 'Computer Science', 'schoolUrn': 'urn:li:fs_miniSchool:10861'}, {'entityUrn': 'urn:li:fs_education:(ACoAAABW4qIByMMkdmkXL7f6ko5BgkKhMf_Nm3Q,8140487)', 'school': {'objectUrn': 'urn:li:school:10287', 'entityUrn': 'urn:li:fs_miniSchool:10287', 'active': True, 'schoolName': 'University of Sarajevo', 'trackingId': 'HpHiNAqoQpCeh5R8PPcO5g==', 'logoUrl': 'https://media.licdn.com/dms/image/C4E0BAQEgaukj87Sa0A/company-logo_'}, 'timePeriod': {'endDate': {'year': 1988}, 'startDate': {'year': 1983}}, 'degreeName': 'Honours Bachelor of Arts', 'schoolName': 'University of Sarajevo', 'fieldOfStudy': 'Languages and Literature', 'schoolUrn': 'urn:li:fs_miniSchool:10287'}], 'languages': [], 'publications': [], 'certifications': [], 'volunteer': [], 'honors': [], 'projects': []}\n"
     ]
    }
   ],
   "source": [
    "import jsonlines\n",
    "from tqdm import tqdm\n",
    "\n",
    "with jsonlines.open('output_2.jsonl', mode='r') as writer:\n",
    "    all_users = list(writer)\n",
    "    print(all_users[0])"
   ]
  },
  {
   "cell_type": "code",
   "execution_count": 2,
   "metadata": {},
   "outputs": [
    {
     "name": "stdout",
     "output_type": "stream",
     "text": [
      "3259\n"
     ]
    }
   ],
   "source": [
    "print(len(all_users))"
   ]
  },
  {
   "cell_type": "code",
   "execution_count": 54,
   "metadata": {},
   "outputs": [],
   "source": [
    "def format_profile(profile):\n",
    "    if not profile: return None\n",
    "    headline = profile[\"headline\"].strip() if \"headline\" in profile and profile[\"headline\"] else \"Not listed\"\n",
    "    industryName = profile[\"industryName\"].strip() if \"industryName\" in profile and profile[\"industryName\"] else \"Not listed\"\n",
    "    name = profile[\"firstName\"] + \" \" + profile[\"lastName\"]\n",
    "    country = profile[\"locationName\"].strip() if \"locationName\" in profile and profile[\"locationName\"] else \"Not listed\"\n",
    "    summary = profile[\"summary\"].strip() if \"summary\" in profile and profile[\"summary\"] else \"Not listed\"\n",
    "    experience = profile[\"experience\"] if \"experience\" in profile and profile[\"experience\"] else None\n",
    "    volunteering = profile[\"volunteer\"] if \"volunteer\" in profile and profile[\"volunteer\"] else None\n",
    "    education = profile[\"education\"] if \"education\" in profile and profile[\"education\"] else None\n",
    "    awards = profile[\"honors\"] if \"honors\" in profile else None\n",
    "\n",
    "    def formatList(l, keys):\n",
    "        res = \"\"\n",
    "        for item_num, item in enumerate(l):\n",
    "            for i, key in enumerate(keys.keys()):\n",
    "                if (key not in item or not item[key]): continue\n",
    "                # res += \"\" if i != 0 else \"\"\n",
    "                res += keys[key] + \": \" + item[key].strip() + (\"\\n\" if i != len(keys) - 1 else \"\")\n",
    "            if item_num != len(l) - 1:\n",
    "                res += \"\\n\"\n",
    "        return res\n",
    "    \n",
    "    def formatExperience(experience, keys):\n",
    "        res = []\n",
    "        for item in experience:\n",
    "            temp = \"\"\n",
    "            for i, key in enumerate(keys.keys()):\n",
    "                if (key not in item or not item[key]): continue\n",
    "                # res += \"\" if i != 0 else \"\"\n",
    "                temp += keys[key] + \": \" + item[key].strip() + \"\\n\"\n",
    "            time_period_valid = item['timePeriod'] and 'startDate' in item['timePeriod'] and item['timePeriod']['startDate']\n",
    "            month_valid = time_period_valid and 'month' in item['timePeriod']['startDate'] and item['timePeriod']['startDate']['month']\n",
    "            year_valid = time_period_valid and 'year' in item['timePeriod']['startDate'] and item['timePeriod']['startDate']['year']\n",
    "            date_str = f\"{item['timePeriod']['startDate']['month']:0>2}/{item['timePeriod']['startDate']['year']}\"if time_period_valid and month_valid and year_valid else \"Not listed\"\n",
    "            temp += f\"Starting Date: \" + date_str\n",
    "            res.append((temp,\n",
    "                        int(item['timePeriod']['startDate']['year']) if time_period_valid and year_valid else None,\n",
    "                        int(item['timePeriod']['startDate']['month']) if time_period_valid and month_valid else None))\n",
    "        \n",
    "        return list(reversed(res))\n",
    "\n",
    "\n",
    "    formatted_education = formatList(education, { 'schoolName': 'School name', 'description': 'Description' }) if education else \"Not listed\"\n",
    "    formatted_volunteering = formatList(volunteering, { 'companyName': 'Company name', 'role': 'Role', 'description': 'Description' }) if volunteering else \"Not listed\"\n",
    "    formatted_awards = formatList(awards, { 'title': 'Title', 'issuer': 'Issuer', 'description': \"Description\" }) if awards else \"Not listed\"\n",
    "    formatted_experience = formatExperience(experience, { 'companyName': 'Company name', 'title': 'Title', 'description': 'Description' }) if experience else []\n",
    "\n",
    "    formatting_string = \"\"\"Name: {name}\n",
    "\n",
    "Industry: {industryName}\n",
    "Country: {country}\n",
    "Headline: {headline}\n",
    "Summary: {summary}\n",
    "---\n",
    "Volunteering:\n",
    "{formatted_volunteering}\n",
    "---\n",
    "Honors & Awards:\n",
    "{formatted_awards}\n",
    "---\n",
    "Education:\n",
    "{formatted_education}\n",
    "\"\"\"\n",
    "    return (formatting_string.format(name=name, country=country, industryName=industryName,\n",
    "                                    headline=headline, summary=summary, \n",
    "                                    formatted_volunteering=formatted_volunteering, \n",
    "                                    formatted_education=formatted_education, formatted_awards=formatted_awards), formatted_experience)\n"
   ]
  },
  {
   "cell_type": "code",
   "execution_count": 11,
   "metadata": {},
   "outputs": [],
   "source": [
    "real_users = [user for user in all_users if user]"
   ]
  },
  {
   "cell_type": "code",
   "execution_count": 12,
   "metadata": {},
   "outputs": [],
   "source": [
    "from datasets import Dataset\n",
    "ds = Dataset.from_list(real_users)"
   ]
  },
  {
   "cell_type": "code",
   "execution_count": 66,
   "metadata": {},
   "outputs": [
    {
     "data": {
      "application/vnd.jupyter.widget-view+json": {
       "model_id": "8fff220d199747088d1e605bbedc2164",
       "version_major": 2,
       "version_minor": 0
      },
      "text/plain": [
       "Map:   0%|          | 0/3087 [00:00<?, ? examples/s]"
      ]
     },
     "metadata": {},
     "output_type": "display_data"
    }
   ],
   "source": [
    "def map_formatting(examples):\n",
    "    new_examples = []\n",
    "    unbatched = []\n",
    "    for i in range(len(examples[\"firstName\"])):\n",
    "        unbatched.append({\n",
    "            k: v[i] for k, v in examples.items()\n",
    "        })\n",
    "\n",
    "    texts = []\n",
    "    labels = []\n",
    "    for example in unbatched:\n",
    "        text, experiences = format_profile(example)\n",
    "        if len(experiences) <= 0: continue\n",
    "        experience_to_give = experiences[:-1]\n",
    "        experience_label = experiences[-1]\n",
    "\n",
    "        texts.append(text + \"\\n\" + \"\\n\".join(e[0] for e in experience_to_give))\n",
    "        labels.append(experience_label[0])\n",
    "    \n",
    "    return {\"input\": texts, \"output\": labels}\n",
    "\n",
    "new_ds = ds.map(map_formatting, remove_columns=ds.column_names, batched=True, batch_size=10)\n",
    "new_ds = new_ds.add_column(\"instruction\", [\"Predict what the person's next prestigious experience on LinkedIn is going to be.\"]*len(new_ds[\"input\"]))"
   ]
  },
  {
   "cell_type": "code",
   "execution_count": 67,
   "metadata": {},
   "outputs": [
    {
     "data": {
      "application/vnd.jupyter.widget-view+json": {
       "model_id": "e6626942fc8f48958499ed01fdf74966",
       "version_major": 2,
       "version_minor": 0
      },
      "text/plain": [
       "Creating json from Arrow format:   0%|          | 0/3 [00:00<?, ?ba/s]"
      ]
     },
     "metadata": {},
     "output_type": "display_data"
    },
    {
     "data": {
      "text/plain": [
       "7067104"
      ]
     },
     "execution_count": 67,
     "metadata": {},
     "output_type": "execute_result"
    }
   ],
   "source": [
    "new_ds.to_json(\"formatted.jsonl\", orient=\"records\", lines=True)"
   ]
  }
 ],
 "metadata": {
  "kernelspec": {
   "display_name": "Python 3",
   "language": "python",
   "name": "python3"
  },
  "language_info": {
   "codemirror_mode": {
    "name": "ipython",
    "version": 3
   },
   "file_extension": ".py",
   "mimetype": "text/x-python",
   "name": "python",
   "nbconvert_exporter": "python",
   "pygments_lexer": "ipython3",
   "version": "3.11.3"
  },
  "orig_nbformat": 4
 },
 "nbformat": 4,
 "nbformat_minor": 2
}

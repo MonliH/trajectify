{
 "cells": [
  {
   "cell_type": "code",
   "execution_count": 1,
   "metadata": {},
   "outputs": [],
   "source": [
    "from linkedin_api import Linkedin\n",
    "import os\n",
    "import json\n",
    "import openai\n",
    "import dotenv\n",
    "\n",
    "dotenv.load_dotenv(\".env\")\n",
    "\n",
    "api = Linkedin(os.getenv(\"OUTLOOK_EMAIL\"), os.getenv(\"OUTLOOK_PASSWORD\"))\n",
    "profile = api.get_profile(\"jonatli\")\n",
    "# profile = json.load(open(\"profile.json\", \"r\"))\n",
    "# headline = profile[\"headline\"]\n",
    "# name = profile[\"firstName\"] + \" \" + profile[\"lastName\"]\n",
    "# country = profile[\"locationName\"]\n",
    "# summary = profile[\"summary\"] if \"summary\" in profile else None\n",
    "# experience = profile[\"experience\"] if \"experience\" in profile else None\n",
    "# education = profile[\"education\"] if \"education\" in profile else None"
   ]
  },
  {
   "cell_type": "code",
   "execution_count": 2,
   "metadata": {},
   "outputs": [],
   "source": [
    "import re\n",
    "a = open(\"../david network.html\", \"r\")\n",
    "# b = open(\"../UofT.html\", \"r\")\n",
    "# c = open(\"../queens.html\", \"r\")\n",
    "# d = open(\"../McMaster.html\", \"r\")\n",
    "# values = [a, b, c, d]\n",
    "values = [a]\n",
    "# final all linkedin users, in the fore https://www.linkedin.com/in/{username}\n",
    "\n",
    "users = set()\n",
    "for f in values:\n",
    "    matches = re.findall(r\"https://www.linkedin.com/in/([A-Za-z0-9_-]+)\", f.read())\n",
    "    users.update(set(matches))"
   ]
  },
  {
   "cell_type": "code",
   "execution_count": 3,
   "metadata": {},
   "outputs": [
    {
     "name": "stdout",
     "output_type": "stream",
     "text": [
      "1027\n"
     ]
    }
   ],
   "source": [
    "print(len(users))"
   ]
  },
  {
   "cell_type": "code",
   "execution_count": 4,
   "metadata": {},
   "outputs": [
    {
     "name": "stderr",
     "output_type": "stream",
     "text": [
      "  0%|          | 0/1027 [00:00<?, ?it/s]"
     ]
    },
    {
     "name": "stderr",
     "output_type": "stream",
     "text": [
      "  0%|          | 3/1027 [00:12<1:10:38,  4.14s/it]"
     ]
    },
    {
     "name": "stdout",
     "output_type": "stream",
     "text": [
      "Error: emily-laura-wong\n"
     ]
    },
    {
     "name": "stderr",
     "output_type": "stream",
     "text": [
      "  0%|          | 5/1027 [00:22<1:21:28,  4.78s/it]"
     ]
    }
   ],
   "source": [
    "from tqdm import tqdm\n",
    "import jsonlines\n",
    "\n",
    "with jsonlines.open('output_3.jsonl', mode='w') as writer:\n",
    "    all_users = list(users)\n",
    "    for profile_username in tqdm(all_users):\n",
    "        try:\n",
    "            profile = api.get_profile(profile_username)\n",
    "            writer.write(profile)\n",
    "        except:\n",
    "            print(\"Error: \" + profile_username)\n",
    "            pass"
   ]
  }
 ],
 "metadata": {
  "kernelspec": {
   "display_name": "base",
   "language": "python",
   "name": "python3"
  },
  "language_info": {
   "codemirror_mode": {
    "name": "ipython",
    "version": 3
   },
   "file_extension": ".py",
   "mimetype": "text/x-python",
   "name": "python",
   "nbconvert_exporter": "python",
   "pygments_lexer": "ipython3",
   "version": "3.11.3"
  },
  "orig_nbformat": 4
 },
 "nbformat": 4,
 "nbformat_minor": 2
}
